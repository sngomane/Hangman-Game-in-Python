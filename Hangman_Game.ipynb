{
  "nbformat": 4,
  "nbformat_minor": 0,
  "metadata": {
    "colab": {
      "provenance": [],
      "collapsed_sections": [
        "GLxL5vL8lEXl"
      ],
      "toc_visible": true
    },
    "kernelspec": {
      "name": "python3",
      "display_name": "Python 3"
    },
    "language_info": {
      "name": "python"
    }
  },
  "cells": [
    {
      "cell_type": "markdown",
      "source": [
        "# Instructions\n",
        "\n",
        "Run hidden Code without opening to play the game. Make sure to enter all guessed letters in uppercase. If you would like to see the code, feel free to expand hidden cells."
      ],
      "metadata": {
        "id": "GNF87_spZo_r"
      }
    },
    {
      "cell_type": "markdown",
      "source": [
        "# The game"
      ],
      "metadata": {
        "id": "GLxL5vL8lEXl"
      }
    },
    {
      "cell_type": "code",
      "execution_count": null,
      "metadata": {
        "id": "v9GV3DEVVwG-",
        "collapsed": true,
        "cellView": "form"
      },
      "outputs": [],
      "source": [
        "# @title Hidden Code\n",
        "# @markdown\n",
        "\n",
        "import random\n",
        "\n",
        "hangman = {\n",
        "    0: '''\n",
        "        ____________\n",
        "         |\n",
        "\n",
        "         ''',\n",
        "    1: '''\n",
        "        ____________\n",
        "         |\n",
        "         O\n",
        "\n",
        "         ''',\n",
        "    2: '''\n",
        "        ____________\n",
        "         |\n",
        "         O\n",
        "        /\n",
        "\n",
        "        ''',\n",
        "    3: '''\n",
        "        ____________\n",
        "         |\n",
        "         O\n",
        "        / \\\n",
        "\n",
        "        ''',\n",
        "    4: '''\n",
        "        ____________\n",
        "         |\n",
        "         O\n",
        "        / \\\n",
        "         |\n",
        "         ''',\n",
        "    5: '''\n",
        "        ____________\n",
        "         |\n",
        "         O\n",
        "        / \\\n",
        "         |\n",
        "        /\n",
        "        ''',\n",
        "    6: '''\n",
        "        ____________\n",
        "         |\n",
        "         O\n",
        "        / \\\n",
        "         |\n",
        "        / \\\n",
        "        '''\n",
        "}\n",
        "\n",
        "# List of possible words to choose from\n",
        "word_list = ['SALAD', 'PYTHON', 'HANGMAN', 'DESKTOP', 'PIZZA', 'ALGORITHM']\n",
        "\n",
        "# Randomly choose a word from the list\n",
        "correct_word = random.choice(word_list)\n",
        "\n",
        "# Initialize the hidden word with dashes\n",
        "hidden_word = '- ' * len(correct_word) #optimises the need to type various dashes\n",
        "hidden_word = hidden_word.strip()  # Remove trailing space\n",
        "print(f'Hidden word is: {hidden_word}')\n",
        "\n",
        "remaining_lives = 6\n",
        "while remaining_lives > 0:\n",
        "    picked_letter = input('Please pick a letter, write it in BLOCK LETTERS: ').upper()  # Convert to uppercase if they do not follow instruction :)\n",
        "\n",
        "    if picked_letter in correct_word:\n",
        "        print(f'CORRECT, the secret word contains the letter {picked_letter}!')\n",
        "\n",
        "        hidden_word_list = hidden_word.split()\n",
        "\n",
        "        for index, letter in enumerate(correct_word):\n",
        "            if letter == picked_letter:\n",
        "                hidden_word_list[index] = picked_letter\n",
        "\n",
        "        hidden_word = ' '.join(hidden_word_list)\n",
        "        print(f'Hidden word is: {hidden_word}')\n",
        "    else:\n",
        "        remaining_lives -= 1  # Subtract one life for an incorrect guess\n",
        "        print(f'WRONG, {remaining_lives} lives left. Try again!')\n",
        "        print(hangman[6 - remaining_lives])  # Display the hangman based on remaining lives\n",
        "\n",
        "    if '-' not in hidden_word:  # Check if there are no dashes left, meaning the word is fully guessed\n",
        "        print(f'CONGRATULATIONS! You guessed the word: {correct_word}')\n",
        "        break  # Exit the loop if the word is correctly guessed\n",
        "\n",
        "if remaining_lives == 0:\n",
        "    print(f'Hanged! The word was: {correct_word}')"
      ]
    }
  ]
}